{
  "nbformat": 4,
  "nbformat_minor": 0,
  "metadata": {
    "colab": {
      "provenance": [],
      "authorship_tag": "ABX9TyMy9l4TYjKdxdkEPMaa1P1H",
      "include_colab_link": true
    },
    "kernelspec": {
      "name": "python3",
      "display_name": "Python 3"
    },
    "language_info": {
      "name": "python"
    }
  },
  "cells": [
    {
      "cell_type": "markdown",
      "metadata": {
        "id": "view-in-github",
        "colab_type": "text"
      },
      "source": [
        "<a href=\"https://colab.research.google.com/github/Lyv24/Tarea5_THC/blob/main/THC_Tarea5.ipynb\" target=\"_parent\"><img src=\"https://colab.research.google.com/assets/colab-badge.svg\" alt=\"Open In Colab\"/></a>"
      ]
    },
    {
      "cell_type": "markdown",
      "source": [
        "**Tarea 5** \\\\\n",
        "*Cruz Contreras Isari Lyvier* \\\\\n",
        "Nombre del programa: THC_Tarea5.ipynb \\\\"
      ],
      "metadata": {
        "id": "qTqVFRqZnSeF"
      }
    },
    {
      "cell_type": "code",
      "execution_count": 1,
      "metadata": {
        "colab": {
          "base_uri": "https://localhost:8080/"
        },
        "id": "Opgp5TKkmaO1",
        "outputId": "349b561e-8545-4145-cb45-d23561f7beda"
      },
      "outputs": [
        {
          "output_type": "stream",
          "name": "stdout",
          "text": [
            "1\n",
            "2\n",
            "3\n",
            "4\n",
            "5\n"
          ]
        }
      ],
      "source": [
        "#Ejercicio 1.1\n",
        "lista_1 = [1,2,3,4,5]\n",
        "for x in lista_1:\n",
        "  print(x)\n",
        "  if x == 5:\n",
        "    break"
      ]
    },
    {
      "cell_type": "code",
      "source": [
        "#Ejercicio 1.2\n",
        "x= input(\"Ingrese un número \")\n",
        "y= input(\"Ingrese un número \")\n",
        "w= input(\"Ingrese un número \")\n",
        "h= input(\"Ingrese un número \")\n",
        "z= input(\"Ingrese un número \")\n",
        "lista_2 = [x,y,w,h,z]\n",
        "for x in lista_2:\n",
        "  print(x)\n",
        "  if x == z:\n",
        "    break"
      ],
      "metadata": {
        "colab": {
          "base_uri": "https://localhost:8080/"
        },
        "id": "GOVRJcPAn5pR",
        "outputId": "1c427da3-098a-48be-d5af-2c94c50cf08f"
      },
      "execution_count": 8,
      "outputs": [
        {
          "output_type": "stream",
          "name": "stdout",
          "text": [
            "Ingrese un número 5\n",
            "Ingrese un número 9\n",
            "Ingrese un número 4\n",
            "Ingrese un número 6\n",
            "Ingrese un número 7\n",
            "5\n",
            "9\n",
            "4\n",
            "6\n",
            "7\n"
          ]
        }
      ]
    },
    {
      "cell_type": "code",
      "source": [
        "#Ejercicio 1.3\n",
        "x= float(input(\"Ingrese un número \"))\n",
        "y= float(input(\"Ingrese un número \"))\n",
        "w= float(input(\"Ingrese un número \"))\n",
        "h= float(input(\"Ingrese un número \"))\n",
        "z= float(input(\"Ingrese un número \"))\n",
        "lista_2 = [x,y,w,h,z]\n",
        "promedio=0\n",
        "for x in lista_2:\n",
        "  promedio=(x+promedio)\n",
        "print(\"Promedio = \",promedio/5)\n"
      ],
      "metadata": {
        "colab": {
          "base_uri": "https://localhost:8080/"
        },
        "id": "qIAPK-9_pPec",
        "outputId": "f34beb32-d38a-4fd2-c1ae-b6d855337703"
      },
      "execution_count": 29,
      "outputs": [
        {
          "output_type": "stream",
          "name": "stdout",
          "text": [
            "Ingrese un número 5\n",
            "Ingrese un número 5\n",
            "Ingrese un número 5\n",
            "Ingrese un número 5\n",
            "Ingrese un número 5\n",
            "Promedio =  5.0\n"
          ]
        }
      ]
    },
    {
      "cell_type": "code",
      "source": [
        "#Ejercicio 2\n",
        "x= float(input(\"Ingrese un número \"))\n",
        "y= float(input(\"Ingrese un número \"))\n",
        "w= float(input(\"Ingrese un número \"))\n",
        "h= float(input(\"Ingrese un número \"))\n",
        "z= float(input(\"Ingrese un número \"))\n",
        "lista_3 = [x,y,w,h,z]\n",
        "\n",
        "for x in lista_3:\n",
        "  if x<=x and x<=y and x<=w and x<=h and x<=z:\n",
        "    print(\"El número menor es \",x)\n",
        "  elif x>=x and x>=y and x>=w and x>=h and x>=z:\n",
        "    print(\"El número mayor es \",x)\n"
      ],
      "metadata": {
        "colab": {
          "base_uri": "https://localhost:8080/"
        },
        "id": "UD-SSEdbthgf",
        "outputId": "befd8485-487a-442d-c09e-2eda896bc45d"
      },
      "execution_count": 45,
      "outputs": [
        {
          "output_type": "stream",
          "name": "stdout",
          "text": [
            "Ingrese un número 5\n",
            "Ingrese un número 6\n",
            "Ingrese un número 1\n",
            "Ingrese un número 2\n",
            "Ingrese un número 2\n",
            "El número mayor es  6.0\n",
            "El número menor es  1.0\n"
          ]
        }
      ]
    },
    {
      "cell_type": "code",
      "source": [
        "#Ejercicio 3\n",
        "x= float(input(\"Ingrese un número \"))\n",
        "y= float(input(\"Ingrese un número \"))\n",
        "w= float(input(\"Ingrese un número \"))\n",
        "h= float(input(\"Ingrese un número \"))\n",
        "z= float(input(\"Ingrese un número \"))\n",
        "lista_4 = [x,y,w,h,z]\n",
        "pares = {}\n",
        "impares = {}\n",
        "for x in lista_4:\n",
        "  if x%2 == 0:\n",
        "    pares[x] = x\n",
        "    print(\"Los números pares son \",pares)\n",
        "for x in lista_4:\n",
        "  if x%2 != 0:\n",
        "    impares[x] = x\n",
        "    print(\"Los números impares son \",impares)"
      ],
      "metadata": {
        "colab": {
          "base_uri": "https://localhost:8080/"
        },
        "id": "kN_Ztnma8v1m",
        "outputId": "b93b031c-e833-481f-d4ee-a9badff4dbfc"
      },
      "execution_count": 94,
      "outputs": [
        {
          "output_type": "stream",
          "name": "stdout",
          "text": [
            "Ingrese un número 5\n",
            "Ingrese un número 4\n",
            "Ingrese un número 7\n",
            "Ingrese un número 8\n",
            "Ingrese un número 6\n",
            "Los números pares son  {4.0: 4.0}\n",
            "Los números pares son  {4.0: 4.0, 8.0: 8.0}\n",
            "Los números pares son  {4.0: 4.0, 8.0: 8.0, 6.0: 6.0}\n",
            "Los números impares son  {5.0: 5.0}\n",
            "Los números impares son  {5.0: 5.0, 7.0: 7.0}\n"
          ]
        }
      ]
    }
  ]
}