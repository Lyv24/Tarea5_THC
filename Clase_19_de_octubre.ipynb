{
  "nbformat": 4,
  "nbformat_minor": 0,
  "metadata": {
    "colab": {
      "provenance": [],
      "authorship_tag": "ABX9TyM/5EDo0q7BBWpPasQLveHG",
      "include_colab_link": true
    },
    "kernelspec": {
      "name": "python3",
      "display_name": "Python 3"
    },
    "language_info": {
      "name": "python"
    }
  },
  "cells": [
    {
      "cell_type": "markdown",
      "metadata": {
        "id": "view-in-github",
        "colab_type": "text"
      },
      "source": [
        "<a href=\"https://colab.research.google.com/github/Lyv24/Tarea5_THC/blob/main/Clase_19_de_octubre.ipynb\" target=\"_parent\"><img src=\"https://colab.research.google.com/assets/colab-badge.svg\" alt=\"Open In Colab\"/></a>"
      ]
    },
    {
      "cell_type": "markdown",
      "source": [
        "Clase 19 de octubre \\\\\n",
        "Cruz Contreras Isari Lyvier"
      ],
      "metadata": {
        "id": "dCBzfZIgDck9"
      }
    },
    {
      "cell_type": "code",
      "source": [
        "#Numpy\n",
        "import numpy as np\n",
        "arr = np.array([1, 2, 3, 4, 5])#lista\n",
        "\n",
        "print(arr)\n",
        "\n",
        "print(type(arr))"
      ],
      "metadata": {
        "colab": {
          "base_uri": "https://localhost:8080/"
        },
        "id": "VuwUpc_bD7E9",
        "outputId": "56224746-3d50-43db-ca42-039cff1405d0"
      },
      "execution_count": null,
      "outputs": [
        {
          "output_type": "stream",
          "name": "stdout",
          "text": [
            "[1 2 3 4 5]\n",
            "<class 'numpy.ndarray'>\n"
          ]
        }
      ]
    },
    {
      "cell_type": "code",
      "source": [
        "import numpy as np\n",
        "arr1 = np.array((1, 2, 3, 4, 5))#tupla\n",
        "\n",
        "print(arr1)\n",
        "\n",
        "print(type(arr1))"
      ],
      "metadata": {
        "colab": {
          "base_uri": "https://localhost:8080/"
        },
        "id": "oPRqg7GVEqes",
        "outputId": "4d046ad3-75e8-4320-ce66-1ab5838133fe"
      },
      "execution_count": null,
      "outputs": [
        {
          "output_type": "stream",
          "name": "stdout",
          "text": [
            "[1 2 3 4 5]\n",
            "<class 'numpy.ndarray'>\n"
          ]
        }
      ]
    },
    {
      "cell_type": "code",
      "source": [
        "#arreglo cerodimensional\n",
        "arr = np.array(42)\n",
        "\n",
        "print(arr)"
      ],
      "metadata": {
        "colab": {
          "base_uri": "https://localhost:8080/"
        },
        "id": "g_YNaGp8E6Jl",
        "outputId": "cc9c7047-7fe8-449c-e6f5-8cdca68b30cd"
      },
      "execution_count": null,
      "outputs": [
        {
          "output_type": "stream",
          "name": "stdout",
          "text": [
            "42\n"
          ]
        }
      ]
    },
    {
      "cell_type": "code",
      "source": [
        "#Arreglo bidimensional\n",
        "arr = np.array([[1, 2, 3], [4, 5, 6]])\n",
        "print(arr)"
      ],
      "metadata": {
        "colab": {
          "base_uri": "https://localhost:8080/"
        },
        "id": "GupVTkWXFH4b",
        "outputId": "649b0e84-12af-4765-e692-b7d276de802d"
      },
      "execution_count": null,
      "outputs": [
        {
          "output_type": "stream",
          "name": "stdout",
          "text": [
            "[[1 2 3]\n",
            " [4 5 6]]\n"
          ]
        }
      ]
    },
    {
      "cell_type": "code",
      "source": [
        "#Arreglos tridimensionales\n",
        "arr = np.array([[[1,2,3],[4,5,6]],[[1,2,3],[4,5,6]]])\n",
        "\n",
        "print(arr)"
      ],
      "metadata": {
        "colab": {
          "base_uri": "https://localhost:8080/"
        },
        "id": "aDAjh3bkFr4F",
        "outputId": "63d05ec9-0d98-44df-851e-467cdce4d229"
      },
      "execution_count": null,
      "outputs": [
        {
          "output_type": "stream",
          "name": "stdout",
          "text": [
            "[[[1 2 3]\n",
            "  [4 5 6]]\n",
            "\n",
            " [[1 2 3]\n",
            "  [4 5 6]]]\n"
          ]
        }
      ]
    },
    {
      "cell_type": "code",
      "source": [
        "#Dimensiones y shape\n",
        "a = np.array(42)\n",
        "b = np.array([1,2,3,4,5])\n",
        "c = np.array([[1,2,3],[4,5,6]])\n",
        "d = np.array([[[1,2,3],[4,5,6]],[[1,2,3],[4,5,6]]])\n",
        "#matriz(num renglones, num elementos,...)\n",
        "print(a.ndim,a.shape)\n",
        "print(b.ndim,b.shape)\n",
        "print(c.ndim,c.shape)\n",
        "print(d.ndim,d.shape)"
      ],
      "metadata": {
        "colab": {
          "base_uri": "https://localhost:8080/"
        },
        "id": "1kOzn4ygGn-7",
        "outputId": "5c8f3794-f669-4c25-ecc8-6d40b7a58a07"
      },
      "execution_count": null,
      "outputs": [
        {
          "output_type": "stream",
          "name": "stdout",
          "text": [
            "0 ()\n",
            "1 (5,)\n",
            "2 (2, 3)\n",
            "3 (2, 2, 3)\n"
          ]
        }
      ]
    },
    {
      "cell_type": "code",
      "source": [
        "#Más dimensiones\n",
        "arr = np.array([1,2,3,4], ndmin=5)\n",
        "\n",
        "print(arr)"
      ],
      "metadata": {
        "id": "dqbzda4JIRik"
      },
      "execution_count": null,
      "outputs": []
    },
    {
      "cell_type": "code",
      "source": [
        "arr = np.array([1,2,3,4])\n",
        "\n",
        "print(arr[0])"
      ],
      "metadata": {
        "colab": {
          "base_uri": "https://localhost:8080/"
        },
        "id": "wKeg_tA2IhPS",
        "outputId": "692d1e9d-d9b0-499a-c835-804c72c6d9d3"
      },
      "execution_count": null,
      "outputs": [
        {
          "output_type": "stream",
          "name": "stdout",
          "text": [
            "1\n"
          ]
        }
      ]
    },
    {
      "cell_type": "code",
      "source": [
        "#Una dimension\n",
        "arr = np.array([[1, 2, 3], [4, 5, 6]])\n",
        "print(\"2do elemento de la 1er Fila: \",arr[0,1] )"
      ],
      "metadata": {
        "colab": {
          "base_uri": "https://localhost:8080/"
        },
        "id": "qEpVJ7VBIoN6",
        "outputId": "2140ae64-947d-4d18-e662-0e0d71aebf21"
      },
      "execution_count": null,
      "outputs": [
        {
          "output_type": "stream",
          "name": "stdout",
          "text": [
            "2do elemento de la 1er Fila:  2\n"
          ]
        }
      ]
    },
    {
      "cell_type": "code",
      "source": [
        "#Dos dimensiones\n",
        "print(\"Tercer elemento de la 2da fila: \",arr[1,2])"
      ],
      "metadata": {
        "colab": {
          "base_uri": "https://localhost:8080/"
        },
        "id": "eGH0cXd9I5nc",
        "outputId": "6b5ff784-eaa3-452c-b489-1f25561b8af8"
      },
      "execution_count": null,
      "outputs": [
        {
          "output_type": "stream",
          "name": "stdout",
          "text": [
            "Quinto elemento de la 2da fila:  6\n"
          ]
        }
      ]
    },
    {
      "cell_type": "code",
      "source": [
        "#Tres dimensiones\n",
        "arr = np.array([[[1,2,3],[4,5,6]],[[1,2,3],[4,5,6]]])\n",
        "\n",
        "print(arr[1,0,1] )"
      ],
      "metadata": {
        "colab": {
          "base_uri": "https://localhost:8080/"
        },
        "id": "KdghHDP7JQHM",
        "outputId": "1989dd85-0998-4b88-ac55-0d71caba645d"
      },
      "execution_count": null,
      "outputs": [
        {
          "output_type": "stream",
          "name": "stdout",
          "text": [
            "2\n"
          ]
        }
      ]
    },
    {
      "cell_type": "code",
      "source": [
        "#Para listas\n",
        "def matrices_sum(A,B,C):\n",
        "  if len(A)==len(B)==len(C):\n",
        "      n=len(A)\n",
        "      H=n*[1.1]\n",
        "      D=0\n",
        "      for i in range (n):\n",
        "        H[i]=A[i]+B[i]+C[i]\n",
        "        D=H[i]+D\n",
        "      print(D)\n",
        "  else:\n",
        "    print(NO)\n",
        "matrices_sum(A=[1,1,1],B=[1,1,1],C=[1,1,1])"
      ],
      "metadata": {
        "colab": {
          "base_uri": "https://localhost:8080/"
        },
        "id": "aaxMLiZHJqCV",
        "outputId": "0bcd0815-ee02-4453-d209-f5dd568f91fd"
      },
      "execution_count": null,
      "outputs": [
        {
          "output_type": "stream",
          "name": "stdout",
          "text": [
            "9\n"
          ]
        }
      ]
    },
    {
      "cell_type": "code",
      "source": [
        "#Para arreglos\n",
        "arr = np.array([[1,1,1],[1,1,1],[1,1,1]])\n",
        "D=0\n",
        "for i in range(len(arr)):\n",
        "  for j in range(len(arr)):\n",
        "    D=D+arr[i,j]\n",
        "print(D)\n",
        "\n"
      ],
      "metadata": {
        "colab": {
          "base_uri": "https://localhost:8080/"
        },
        "id": "7iYpr8MfOJda",
        "outputId": "564af0c1-cd09-4341-e43c-c80847eb2985"
      },
      "execution_count": null,
      "outputs": [
        {
          "output_type": "stream",
          "name": "stdout",
          "text": [
            "9\n"
          ]
        }
      ]
    },
    {
      "cell_type": "code",
      "source": [
        "#Para listas\n",
        "def producto_punto(A,B):\n",
        "  if len(A)==len(B):\n",
        "      n=len(A)\n",
        "      C=n*[1.1]\n",
        "      D=0\n",
        "      for i in range (n):\n",
        "        C[i]=A[i]*B[i]\n",
        "        D=C[i]+D\n",
        "      print(D)\n",
        "  else:\n",
        "    print(NO)\n",
        "producto_punto(A=[1,1,1],B=[1,1,1])"
      ],
      "metadata": {
        "colab": {
          "base_uri": "https://localhost:8080/"
        },
        "id": "qClUQm0FWWwf",
        "outputId": "773ab76b-2340-46ee-a7d9-dd6fd959e9bf"
      },
      "execution_count": null,
      "outputs": [
        {
          "output_type": "stream",
          "name": "stdout",
          "text": [
            "3\n"
          ]
        }
      ]
    },
    {
      "cell_type": "code",
      "source": [
        "def Prod_punto(a,b):\n",
        "  for i in range(len(a)):\n",
        "    PP=0.0\n",
        "    PP=a[i]*b[i]\n",
        "  return PP"
      ],
      "metadata": {
        "id": "7zoHw1CnYN4e"
      },
      "execution_count": null,
      "outputs": []
    },
    {
      "cell_type": "code",
      "source": [
        "arr2 = np.array([[1,1,1],[1,1,1],[1,1,1]])\n",
        "arr3 = np.array([[1,1,1],[1,1,1],[1,1,1]])\n",
        "Pp_por_reng=np.array([0,0,0])\n",
        "Pp_por_column=np.array([0,0,0])\n",
        "\n",
        "for i in range(len(arr2)):\n",
        "  Pp_por_reng[i]=Prod_punto(arr2[i],arr3[i])\n",
        "\n",
        "Pp_por_reng"
      ],
      "metadata": {
        "colab": {
          "base_uri": "https://localhost:8080/"
        },
        "id": "XgNeLqloW2m2",
        "outputId": "49e3e794-e1c1-4596-a3bf-257080bc5fb7"
      },
      "execution_count": null,
      "outputs": [
        {
          "output_type": "execute_result",
          "data": {
            "text/plain": [
              "array([1, 1, 1])"
            ]
          },
          "metadata": {},
          "execution_count": 85
        }
      ]
    },
    {
      "cell_type": "code",
      "source": [
        "def AgarraCol(a,col):\n",
        "  nuevo=[]\n",
        "  for i in range(len(a)):\n",
        "    nuevo.append(a[i,col])\n",
        "\n",
        "  return np.array(nuevo)\n",
        "col1=AgarraCol(arr2,0)\n",
        "col1"
      ],
      "metadata": {
        "colab": {
          "base_uri": "https://localhost:8080/"
        },
        "id": "l1UU3tdAYv12",
        "outputId": "70a1d18f-89c1-4fe7-989a-ea51e783afba"
      },
      "execution_count": null,
      "outputs": [
        {
          "output_type": "execute_result",
          "data": {
            "text/plain": [
              "array([1, 1, 1])"
            ]
          },
          "metadata": {},
          "execution_count": 86
        }
      ]
    },
    {
      "cell_type": "code",
      "source": [
        "for i in range(len(arr2)):\n",
        "  Pp_por_column[i]=Prod_punto(AgarraCol(arr2,i),AgarraCol(arr3,i))\n",
        "Pp_por_column"
      ],
      "metadata": {
        "colab": {
          "base_uri": "https://localhost:8080/"
        },
        "id": "wwj0SWvDZuG8",
        "outputId": "40c9c33a-1409-4618-b075-77ebf8418596"
      },
      "execution_count": null,
      "outputs": [
        {
          "output_type": "execute_result",
          "data": {
            "text/plain": [
              "array([1, 1, 1])"
            ]
          },
          "metadata": {},
          "execution_count": 87
        }
      ]
    },
    {
      "cell_type": "code",
      "source": [
        "def producto_escalar(n,A,B):\n",
        "  c=len(A)\n",
        "  B=c*[1.1]\n",
        "  for i in range (c):\n",
        "    B[i]=n*A[i]\n",
        "  print(B)\n",
        "\n",
        "producto_escalar(3,A=[1,1,1],B=[1,1,1])"
      ],
      "metadata": {
        "colab": {
          "base_uri": "https://localhost:8080/"
        },
        "id": "YbtyuHJXRo4J",
        "outputId": "ea870e9d-429c-478a-c71d-95849c5930de"
      },
      "execution_count": null,
      "outputs": [
        {
          "output_type": "stream",
          "name": "stdout",
          "text": [
            "[3, 3, 3]\n"
          ]
        }
      ]
    },
    {
      "cell_type": "code",
      "source": [
        "arr1 = np.array([[1,1,1],[1,1,1],[1,1,1]])\n",
        "D=3\n",
        "C=[]\n",
        "for i in range(len(arr1)):\n",
        "  for j in range (len(arr1[i])):\n",
        "    D=D*arr1[i,j]\n",
        "    print(D)\n",
        "\n"
      ],
      "metadata": {
        "colab": {
          "base_uri": "https://localhost:8080/"
        },
        "id": "UdyiVkCjR4QZ",
        "outputId": "cbe439ed-f7de-42b4-f1a1-05992320f596"
      },
      "execution_count": null,
      "outputs": [
        {
          "output_type": "stream",
          "name": "stdout",
          "text": [
            "3\n",
            "3\n",
            "3\n",
            "3\n",
            "3\n",
            "3\n",
            "3\n",
            "3\n",
            "3\n"
          ]
        }
      ]
    }
  ]
}