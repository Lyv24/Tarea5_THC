{
  "nbformat": 4,
  "nbformat_minor": 0,
  "metadata": {
    "colab": {
      "provenance": [],
      "authorship_tag": "ABX9TyOzuaFYjm1Agv/Zi1h5jcPc",
      "include_colab_link": true
    },
    "kernelspec": {
      "name": "python3",
      "display_name": "Python 3"
    },
    "language_info": {
      "name": "python"
    }
  },
  "cells": [
    {
      "cell_type": "markdown",
      "metadata": {
        "id": "view-in-github",
        "colab_type": "text"
      },
      "source": [
        "<a href=\"https://colab.research.google.com/github/Lyv24/Tarea5_THC/blob/main/Tarea_6_THC.ipynb\" target=\"_parent\"><img src=\"https://colab.research.google.com/assets/colab-badge.svg\" alt=\"Open In Colab\"/></a>"
      ]
    },
    {
      "cell_type": "markdown",
      "source": [
        "Tarea 6 THC \\\\\n",
        "Cruz Contreras Isari Lyier \\\\\n",
        "Nombre del documento: Tarea 6_THC.ipynb"
      ],
      "metadata": {
        "id": "R6CdeQa9Zvms"
      }
    },
    {
      "cell_type": "code",
      "execution_count": 22,
      "metadata": {
        "colab": {
          "base_uri": "https://localhost:8080/"
        },
        "id": "LW-HrAcPZrUM",
        "outputId": "72f0d172-ccc1-4c81-e625-02b70068f2b7"
      },
      "outputs": [
        {
          "output_type": "stream",
          "name": "stdout",
          "text": [
            "203\n"
          ]
        }
      ],
      "source": [
        "#Para sacar el producto punto de dos vectores\n",
        "def producto_punto(A,B):\n",
        "  if len(A)==len(B):\n",
        "      n=len(A)\n",
        "      C=n*[1.1]\n",
        "      D=0\n",
        "      for i in range (n):\n",
        "        C[i]=A[i]*B[i]\n",
        "        D=C[i]+D\n",
        "      print(D)\n",
        "  else:\n",
        "    print(NO)\n",
        "producto_punto(A=[4,5,6,8,7],B=[5,7,8,9,4])"
      ]
    },
    {
      "cell_type": "code",
      "source": [
        "#Para sacar la potencia de cada vector (n=3)\n",
        "def potencia3_vector(A):\n",
        "  n=len(A)\n",
        "  C=n*[1.1]\n",
        "  D=0\n",
        "  for i in range (n):\n",
        "    C[i]=A[i]*A[i]*A[i]\n",
        "    D=C[i]+D\n",
        "    print(D)\n",
        "\n",
        "potencia3_vector(A=[4,5])"
      ],
      "metadata": {
        "colab": {
          "base_uri": "https://localhost:8080/"
        },
        "id": "auu-Lhj6cLEV",
        "outputId": "43cb7da2-bb6a-4b12-c6ef-5bb50164e405"
      },
      "execution_count": 32,
      "outputs": [
        {
          "output_type": "stream",
          "name": "stdout",
          "text": [
            "64\n",
            "189\n"
          ]
        }
      ]
    },
    {
      "cell_type": "code",
      "source": [
        "#Producto por escalar\n",
        "def producto_escalar(n,A):\n",
        "  c=len(A)\n",
        "  B=c*[1.1]\n",
        "  for i in range (c):\n",
        "    B[i]=n*A[i]\n",
        "    print(B)\n",
        "\n",
        "producto_escalar(5,A=[4,5,6,8,7])"
      ],
      "metadata": {
        "colab": {
          "base_uri": "https://localhost:8080/"
        },
        "id": "60GktQTXdOuT",
        "outputId": "46ce5475-9be4-48b7-b255-f8a2fc3decd6"
      },
      "execution_count": 28,
      "outputs": [
        {
          "output_type": "stream",
          "name": "stdout",
          "text": [
            "[20, 1.1, 1.1, 1.1, 1.1]\n",
            "[20, 25, 1.1, 1.1, 1.1]\n",
            "[20, 25, 30, 1.1, 1.1]\n",
            "[20, 25, 30, 40, 1.1]\n",
            "[20, 25, 30, 40, 35]\n"
          ]
        }
      ]
    }
  ]
}